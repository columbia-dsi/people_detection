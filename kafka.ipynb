{
 "cells": [
  {
   "cell_type": "code",
   "execution_count": 83,
   "metadata": {},
   "outputs": [],
   "source": [
    "import json\n",
    "from PIL import Image\n",
    "import numpy as np\n",
    "from pykafka import KafkaClient\n",
    "from pykafka.common import OffsetType\n",
    "\n",
    "def gen_client(hosts = \"127.0.0.1:9092\", topic_name = 'test'):\n",
    "    client = KafkaClient(hosts=hosts)\n",
    "    topic = client.topics[topic_name]\n",
    "    return client, topic\n",
    "\n",
    "def load_image_as_bytes(infilename) :\n",
    "    img = Image.open( infilename )\n",
    "    img.load()\n",
    "    data = np.asarray( img, dtype=\"int32\" )\n",
    "    np_array_to_list = data.tolist()\n",
    "    b = bytes(json.dumps(np_array_to_list), 'utf-8')\n",
    "    return b\n",
    "\n",
    "def produce(topic, image_as_jsonified_bytes):\n",
    "    with topic.get_sync_producer() as producer:\n",
    "        producer.produce(image_as_jsonified_bytes)\n",
    "        \n",
    "def consume_latest(topic, LAST_N_MESSAGES = 1):\n",
    "    consumer = topic.get_simple_consumer(\n",
    "        auto_offset_reset=OffsetType.LATEST,\n",
    "        reset_offset_on_start=True\n",
    "    )\n",
    "    offsets = [(p, op.next_offset - LAST_N_MESSAGES - 1) for p, op in consumer._partitions.items()]\n",
    "    offsets = [(p, o) if o != -1 else (p, -2) for p, o in offsets]\n",
    "    consumer.reset_offsets(offsets)\n",
    "    return consumer.consume().value\n",
    "\n",
    "def decode(incoming):\n",
    "    as_json = json.loads(incoming.decode('utf-8'))\n",
    "    arr = np.array(as_json)\n",
    "    return arr"
   ]
  },
  {
   "cell_type": "code",
   "execution_count": null,
   "metadata": {},
   "outputs": [],
   "source": [
    "b = load_image_as_bytes('download.jpeg')\n",
    "client, topic = gen_client()\n",
    "produce(topic, b)"
   ]
  },
  {
   "cell_type": "code",
   "execution_count": 84,
   "metadata": {},
   "outputs": [
    {
     "name": "stdout",
     "output_type": "stream",
     "text": [
      "[[[230 134 118]\n",
      "  [230 134 118]\n",
      "  [229 133 117]\n",
      "  ...\n",
      "  [220 133 116]\n",
      "  [232 145 128]\n",
      "  [209 121 107]]\n",
      "\n",
      " [[229 133 117]\n",
      "  [229 133 117]\n",
      "  [229 133 117]\n",
      "  ...\n",
      "  [227 140 130]\n",
      "  [234 147 138]\n",
      "  [216 129 120]]\n",
      "\n",
      " [[229 133 117]\n",
      "  [229 133 117]\n",
      "  [228 132 116]\n",
      "  ...\n",
      "  [194 108 109]\n",
      "  [177  92  95]\n",
      "  [154  69  74]]\n",
      "\n",
      " ...\n",
      "\n",
      " [[ 84  22  59]\n",
      "  [ 92  28  65]\n",
      "  [ 98  30  67]\n",
      "  ...\n",
      "  [127  43  67]\n",
      "  [141  53  75]\n",
      "  [149  60  78]]\n",
      "\n",
      " [[ 81  21  59]\n",
      "  [ 87  25  62]\n",
      "  [ 95  27  64]\n",
      "  ...\n",
      "  [140  55  78]\n",
      "  [154  65  85]\n",
      "  [163  71  86]]\n",
      "\n",
      " [[ 77  19  57]\n",
      "  [ 86  24  63]\n",
      "  [ 92  26  64]\n",
      "  ...\n",
      "  [150  62  84]\n",
      "  [163  72  89]\n",
      "  [170  76  90]]]\n"
     ]
    }
   ],
   "source": [
    "incoming = consume_latest(topic)\n",
    "if incoming is not None:\n",
    "    received_image = decode(incoming)\n",
    "    print(received_image)\n",
    "else:\n",
    "    print('No message received!')"
   ]
  }
 ],
 "metadata": {
  "anaconda-cloud": {},
  "kernelspec": {
   "display_name": "Python [conda env:py35]",
   "language": "python",
   "name": "conda-env-py35-py"
  },
  "language_info": {
   "codemirror_mode": {
    "name": "ipython",
    "version": 3
   },
   "file_extension": ".py",
   "mimetype": "text/x-python",
   "name": "python",
   "nbconvert_exporter": "python",
   "pygments_lexer": "ipython3",
   "version": "3.5.5"
  }
 },
 "nbformat": 4,
 "nbformat_minor": 2
}
